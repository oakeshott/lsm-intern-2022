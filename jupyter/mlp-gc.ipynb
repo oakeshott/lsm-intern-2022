{
  "nbformat": 4,
  "nbformat_minor": 0,
  "metadata": {
    "colab": {
      "name": "mlp.ipynb",
      "provenance": [],
      "authorship_tag": "ABX9TyPCC8+nZkfblYfbDOHE09nF",
      "include_colab_link": true
    },
    "kernelspec": {
      "name": "python3",
      "display_name": "Python 3"
    },
    "language_info": {
      "name": "python"
    }
  },
  "cells": [
    {
      "cell_type": "markdown",
      "metadata": {
        "id": "view-in-github",
        "colab_type": "text"
      },
      "source": [
        "<a href=\"https://colab.research.google.com/github/oakeshott/lsm-intern-2022/blob/master/jupyter/mlp-gc.ipynb\" target=\"_parent\"><img src=\"https://colab.research.google.com/assets/colab-badge.svg\" alt=\"Open In Colab\"/></a>"
      ]
    },
    {
      "cell_type": "code",
      "execution_count": null,
      "metadata": {
        "colab": {
          "base_uri": "https://localhost:8080/"
        },
        "id": "SM3uS28qYZxm",
        "outputId": "569d5048-cff6-46ac-bd72-6f2ed034e949"
      },
      "outputs": [
        {
          "output_type": "stream",
          "name": "stdout",
          "text": [
            "fatal: destination path 'lsm-intern-2022' already exists and is not an empty directory.\n",
            "Looking in indexes: https://pypi.org/simple, https://us-python.pkg.dev/colab-wheels/public/simple/\n",
            "Requirement already satisfied: torch==1.9.1 in /usr/local/lib/python3.7/dist-packages (1.9.1)\n",
            "Requirement already satisfied: torchvision==0.10.1 in /usr/local/lib/python3.7/dist-packages (0.10.1)\n",
            "Requirement already satisfied: torchaudio==0.9.1 in /usr/local/lib/python3.7/dist-packages (0.9.1)\n",
            "Requirement already satisfied: typing-extensions in /usr/local/lib/python3.7/dist-packages (from torch==1.9.1) (4.1.1)\n",
            "Requirement already satisfied: numpy in /usr/local/lib/python3.7/dist-packages (from torchvision==0.10.1) (1.21.6)\n",
            "Requirement already satisfied: pillow>=5.3.0 in /usr/local/lib/python3.7/dist-packages (from torchvision==0.10.1) (7.1.2)\n",
            "Looking in indexes: https://pypi.org/simple, https://us-python.pkg.dev/colab-wheels/public/simple/\n",
            "Looking in links: https://data.pyg.org/whl/torch-1.9.1+cpu.html\n",
            "Requirement already satisfied: torch-scatter==2.0.7 in /usr/local/lib/python3.7/dist-packages (2.0.7)\n",
            "Requirement already satisfied: torch-sparse==0.6.10 in /usr/local/lib/python3.7/dist-packages (0.6.10)\n",
            "Requirement already satisfied: torch-cluster==1.5.9 in /usr/local/lib/python3.7/dist-packages (1.5.9)\n",
            "Requirement already satisfied: torch-spline-conv==1.2.1 in /usr/local/lib/python3.7/dist-packages (1.2.1)\n",
            "Requirement already satisfied: torch-geometric==2.0.1 in /usr/local/lib/python3.7/dist-packages (2.0.1)\n",
            "Requirement already satisfied: scipy in /usr/local/lib/python3.7/dist-packages (from torch-sparse==0.6.10) (1.7.3)\n",
            "Requirement already satisfied: tqdm in /usr/local/lib/python3.7/dist-packages (from torch-geometric==2.0.1) (4.64.0)\n",
            "Requirement already satisfied: googledrivedownloader in /usr/local/lib/python3.7/dist-packages (from torch-geometric==2.0.1) (0.4)\n",
            "Requirement already satisfied: PyYAML in /usr/local/lib/python3.7/dist-packages (from torch-geometric==2.0.1) (6.0)\n",
            "Requirement already satisfied: pandas in /usr/local/lib/python3.7/dist-packages (from torch-geometric==2.0.1) (1.3.5)\n",
            "Requirement already satisfied: numpy in /usr/local/lib/python3.7/dist-packages (from torch-geometric==2.0.1) (1.21.6)\n",
            "Requirement already satisfied: networkx in /usr/local/lib/python3.7/dist-packages (from torch-geometric==2.0.1) (2.6.3)\n",
            "Requirement already satisfied: scikit-learn in /usr/local/lib/python3.7/dist-packages (from torch-geometric==2.0.1) (1.0.2)\n",
            "Requirement already satisfied: jinja2 in /usr/local/lib/python3.7/dist-packages (from torch-geometric==2.0.1) (2.11.3)\n",
            "Requirement already satisfied: requests in /usr/local/lib/python3.7/dist-packages (from torch-geometric==2.0.1) (2.23.0)\n",
            "Requirement already satisfied: rdflib in /usr/local/lib/python3.7/dist-packages (from torch-geometric==2.0.1) (6.2.0)\n",
            "Requirement already satisfied: pyparsing in /usr/local/lib/python3.7/dist-packages (from torch-geometric==2.0.1) (3.0.9)\n",
            "Requirement already satisfied: yacs in /usr/local/lib/python3.7/dist-packages (from torch-geometric==2.0.1) (0.1.8)\n",
            "Requirement already satisfied: MarkupSafe>=0.23 in /usr/local/lib/python3.7/dist-packages (from jinja2->torch-geometric==2.0.1) (2.0.1)\n",
            "Requirement already satisfied: python-dateutil>=2.7.3 in /usr/local/lib/python3.7/dist-packages (from pandas->torch-geometric==2.0.1) (2.8.2)\n",
            "Requirement already satisfied: pytz>=2017.3 in /usr/local/lib/python3.7/dist-packages (from pandas->torch-geometric==2.0.1) (2022.2.1)\n",
            "Requirement already satisfied: six>=1.5 in /usr/local/lib/python3.7/dist-packages (from python-dateutil>=2.7.3->pandas->torch-geometric==2.0.1) (1.15.0)\n",
            "Requirement already satisfied: setuptools in /usr/local/lib/python3.7/dist-packages (from rdflib->torch-geometric==2.0.1) (57.4.0)\n",
            "Requirement already satisfied: isodate in /usr/local/lib/python3.7/dist-packages (from rdflib->torch-geometric==2.0.1) (0.6.1)\n",
            "Requirement already satisfied: importlib-metadata in /usr/local/lib/python3.7/dist-packages (from rdflib->torch-geometric==2.0.1) (4.12.0)\n",
            "Requirement already satisfied: typing-extensions>=3.6.4 in /usr/local/lib/python3.7/dist-packages (from importlib-metadata->rdflib->torch-geometric==2.0.1) (4.1.1)\n",
            "Requirement already satisfied: zipp>=0.5 in /usr/local/lib/python3.7/dist-packages (from importlib-metadata->rdflib->torch-geometric==2.0.1) (3.8.1)\n",
            "Requirement already satisfied: certifi>=2017.4.17 in /usr/local/lib/python3.7/dist-packages (from requests->torch-geometric==2.0.1) (2022.6.15)\n",
            "Requirement already satisfied: chardet<4,>=3.0.2 in /usr/local/lib/python3.7/dist-packages (from requests->torch-geometric==2.0.1) (3.0.4)\n",
            "Requirement already satisfied: urllib3!=1.25.0,!=1.25.1,<1.26,>=1.21.1 in /usr/local/lib/python3.7/dist-packages (from requests->torch-geometric==2.0.1) (1.24.3)\n",
            "Requirement already satisfied: idna<3,>=2.5 in /usr/local/lib/python3.7/dist-packages (from requests->torch-geometric==2.0.1) (2.10)\n",
            "Requirement already satisfied: threadpoolctl>=2.0.0 in /usr/local/lib/python3.7/dist-packages (from scikit-learn->torch-geometric==2.0.1) (3.1.0)\n",
            "Requirement already satisfied: joblib>=0.11 in /usr/local/lib/python3.7/dist-packages (from scikit-learn->torch-geometric==2.0.1) (1.1.0)\n",
            "Looking in indexes: https://pypi.org/simple, https://us-python.pkg.dev/colab-wheels/public/simple/\n",
            "Requirement already satisfied: networkx in /usr/local/lib/python3.7/dist-packages (2.6.3)\n",
            "Requirement already satisfied: pandas in /usr/local/lib/python3.7/dist-packages (1.3.5)\n",
            "Requirement already satisfied: numpy in /usr/local/lib/python3.7/dist-packages (1.21.6)\n",
            "Requirement already satisfied: python-dateutil>=2.7.3 in /usr/local/lib/python3.7/dist-packages (from pandas) (2.8.2)\n",
            "Requirement already satisfied: pytz>=2017.3 in /usr/local/lib/python3.7/dist-packages (from pandas) (2022.2.1)\n",
            "Requirement already satisfied: six>=1.5 in /usr/local/lib/python3.7/dist-packages (from python-dateutil>=2.7.3->pandas) (1.15.0)\n"
          ]
        }
      ],
      "source": [
        "\n",
        "!git clone https://github.com/oakeshott/lsm-intern-2022\n",
        "!pip install torch==1.9.1 torchvision==0.10.1 torchaudio==0.9.1\n",
        "!pip install torch-scatter==2.0.7 torch-sparse==0.6.10 torch-cluster==1.5.9 torch-spline-conv==1.2.1 torch-geometric==2.0.1 -f https://data.pyg.org/whl/torch-1.9.1+cpu.html\n",
        "!pip install networkx pandas numpy sklearn joblib tqdm"
      ]
    },
    {
      "cell_type": "code",
      "source": [
        "import torch\n",
        "import torch.nn as nn\n",
        "import torch.optim as optim\n",
        "import pandas as pd\n",
        "from torch.utils.data import Dataset, random_split, DataLoader, Subset\n",
        "from sklearn.model_selection import train_test_split\n",
        "from sklearn.preprocessing import MinMaxScaler, StandardScaler\n",
        "from sklearn.metrics import accuracy_score, classification_report\n",
        "from tqdm import tqdm\n",
        "import random\n",
        "import numpy as np\n",
        "import os\n",
        "import joblib"
      ],
      "metadata": {
        "id": "QtzI1_7kYgDm"
      },
      "execution_count": null,
      "outputs": []
    },
    {
      "cell_type": "code",
      "source": [
        "class Preprocessing:\n",
        "    def __init__(self, is_train=True):\n",
        "        self.transformer = dict()\n",
        "        self.is_train = is_train\n",
        "        if not self.is_train:\n",
        "            self.transformer = self.load()\n",
        "\n",
        "    def __call__(self, df, is_timeseries=False):\n",
        "        if self.is_train:\n",
        "            return self.fit_transform(df)\n",
        "        else:\n",
        "            return self.transform(df)\n",
        "\n",
        "    def fit_transform(self, df):\n",
        "        for column in df.columns:\n",
        "            if 'cpu-util' in column:\n",
        "                self.transformer[column] = MinMaxScaler()\n",
        "            else:\n",
        "                self.transformer[column] = StandardScaler()\n",
        "            value = self.transformer[column].fit_transform(pd.DataFrame(df[column]))\n",
        "            df.loc[:, column] = value\n",
        "        return df\n",
        "\n",
        "    def transform(self, df):\n",
        "        for column in df.columns:\n",
        "            value = self.transformer[column].transform(\n",
        "                pd.DataFrame(df[column]))\n",
        "            df.loc[:, column] = value\n",
        "        return df\n",
        "\n",
        "    def dump(self, filename='/tmp/mlp_transfomer.bin'):\n",
        "        with open(filename, 'wb') as f:\n",
        "            joblib.dump(self.transformer, f)\n",
        "\n",
        "    def load(self, filename='/tmp/mlp_transfomer.bin'):\n",
        "        with open(filename, 'rb') as f:\n",
        "            data = joblib.load(f)\n",
        "        return data"
      ],
      "metadata": {
        "id": "4B4Qy7_7bEJ6"
      },
      "execution_count": null,
      "outputs": []
    },
    {
      "cell_type": "code",
      "source": [
        "class NetworkMetricsDataset(Dataset):\n",
        "    def __init__(self, path, metrics, device, transformer=None, is_train=False):\n",
        "        self.path = path\n",
        "        self.metrics = metrics\n",
        "        self.device = device\n",
        "        self.transformer = transformer\n",
        "        self.is_train = is_train\n",
        "        \n",
        "        data = []\n",
        "        for metric in tqdm(self.metrics):\n",
        "            if self.is_train:\n",
        "                df = pd.read_csv(f\"https://raw.githubusercontent.com/oakeshott/lsm-intern-2022/master/dataset/train/{metric}.tsv\", sep=\"\\t\", index_col=0)\n",
        "            else:\n",
        "                df = pd.read_csv(f\"https://raw.githubusercontent.com/oakeshott/lsm-intern-2022/master/dataset/test/{metric}.tsv\", sep=\"\\t\", index_col=0)\n",
        "            # df = pd.read_csv(os.path.join(self.path, metric + '.tsv'), sep=\"\\t\", index_col=0)\n",
        "            df = df.fillna(0)\n",
        "            df = df.sort_values(\"timestamp\")\n",
        "            df = df.set_index(\"timestamp\")\n",
        "            columns = {name: metric + '-' + name for name in df.columns}\n",
        "            df.rename(columns=columns, inplace=True)\n",
        "            if self.transformer:\n",
        "                df = self.transformer(df)\n",
        "            data.append(df)\n",
        "        self.dataframe = pd.concat(data, axis=1)\n",
        "        self.data = self.dataframe.values\n",
        "        self.data_size = len(self.dataframe)\n",
        "        if self.is_train:\n",
        "            self.labels = pd.read_csv(f\"https://raw.githubusercontent.com/oakeshott/lsm-intern-2022/master/dataset/train/label.tsv\", sep=\"\\t\", index_col=0).set_index(\"timestamp\").values\n",
        "        else:\n",
        "            self.labels = pd.read_csv(f\"https://raw.githubusercontent.com/oakeshott/lsm-intern-2022/master/dataset/test/label.tsv\", sep=\"\\t\", index_col=0).set_index(\"timestamp\").values\n",
        "            \n",
        "    def __len__(self):\n",
        "        return self.data_size\n",
        "    \n",
        "    def __getitem__(self, idx):\n",
        "        ret = self.data[idx]\n",
        "        ret = torch.tensor(ret, dtype=torch.float, device=self.device)\n",
        "        label = self.labels[idx]\n",
        "        label = torch.tensor(label, dtype=torch.float, device=self.device)\n",
        "        \n",
        "        return ret, label"
      ],
      "metadata": {
        "id": "fhQvTSO4bTrB"
      },
      "execution_count": null,
      "outputs": []
    },
    {
      "cell_type": "code",
      "source": [
        "class MLPClassifier(nn.Module):\n",
        "    def __init__(self, input_dim, output_dim):\n",
        "        super(MLPClassifier, self).__init__()\n",
        "        self.input_dim = input_dim\n",
        "        self.output_dim = output_dim\n",
        "        hidden_dim = 128\n",
        "        self.mlp = nn.Sequential(\n",
        "            nn.Linear(self.input_dim, hidden_dim),\n",
        "            nn.ReLU(),\n",
        "            nn.Dropout(p=0.2),\n",
        "            nn.Linear(hidden_dim, self.output_dim),\n",
        "#             nn.Softmax(dim=1), # loss functionにsoftmaxが組み込まれているため不要\n",
        "        )\n",
        "\n",
        "    def forward(self, x):\n",
        "        return self.mlp(x)"
      ],
      "metadata": {
        "id": "5-2OfAKKbx81"
      },
      "execution_count": null,
      "outputs": []
    },
    {
      "cell_type": "code",
      "source": [
        "device = 'cpu'\n",
        "path = \"../dataset/train\"\n",
        "metrics = [\"cpu-util\", \"tx-pps\", \"rx-pps\", \"network-incoming-packets-rate\", \"network-outgoing-packets-rate\", \"prefix-activity-received-current-prefixes\"]\n",
        "events = {\n",
        "    'normal': 0,\n",
        "    'ixnetwork-bgp-hijacking-start': 1,\n",
        "    'ixnetwork-bgp-injection-start': 2,\n",
        "    'node-down': 3,\n",
        "    'interface-down': 4,\n",
        "    'packet-loss-delay': 5,\n",
        "}\n",
        "seed = 1\n",
        "torch.manual_seed(seed)\n",
        "random.seed(seed)\n",
        "np.random.seed(seed)\n",
        "\n",
        "batchsize = 16\n",
        "max_epoch = 100\n",
        "model_dir = \"models/mlp\"\n",
        "os.makedirs(model_dir, exist_ok=True)\n",
        "transformer = Preprocessing(is_train=True)\n",
        "dataset = NetworkMetricsDataset(path, metrics, device, transformer, is_train=True)\n",
        "transformer.dump()"
      ],
      "metadata": {
        "colab": {
          "base_uri": "https://localhost:8080/"
        },
        "id": "IkZGYFfDb7OL",
        "outputId": "533d3b8c-9c99-4586-e44a-c9003cb0c35f"
      },
      "execution_count": null,
      "outputs": [
        {
          "output_type": "stream",
          "name": "stderr",
          "text": [
            "100%|██████████| 6/6 [00:01<00:00,  5.45it/s]\n"
          ]
        }
      ]
    },
    {
      "cell_type": "code",
      "source": [
        "train_indices, val_indices = train_test_split(\n",
        "    list(range(len(dataset))),\n",
        "    test_size=0.2,\n",
        "    stratify=dataset.labels,\n",
        "    random_state=seed,\n",
        ")\n",
        "train_dataset = Subset(dataset, train_indices)\n",
        "train_size = len(train_dataset)\n",
        "val_dataset = Subset(dataset, val_indices)\n",
        "val_size = len(val_dataset)\n",
        "print(f'train size : {train_size} val size: {val_size}')\n",
        "train_dataloader = DataLoader(train_dataset, batch_size=batchsize)\n",
        "val_dataloader = DataLoader(val_dataset, batch_size=val_size)\n",
        "\n",
        "val_data, val_labels = iter(val_dataloader).next()\n",
        "val_data = val_data.float().to(device)\n",
        "val_labels = val_labels.long().to(device).view(-1)"
      ],
      "metadata": {
        "colab": {
          "base_uri": "https://localhost:8080/"
        },
        "id": "25keFM_UcEpH",
        "outputId": "817a9b88-2c3e-4abf-fd04-fbe08fdc2140"
      },
      "execution_count": null,
      "outputs": [
        {
          "output_type": "stream",
          "name": "stdout",
          "text": [
            "train size : 4775 val size: 1194\n"
          ]
        }
      ]
    },
    {
      "cell_type": "code",
      "source": [
        "input_dim = list(train_dataset[0][0].shape)[-1]\n",
        "output_dim = len(events.keys())\n",
        "model = MLPClassifier(input_dim, output_dim).to(device)\n",
        "loss_function = nn.CrossEntropyLoss()\n",
        "optimizer = optim.Adam(model.parameters(), lr=1e-3)"
      ],
      "metadata": {
        "id": "RwEq1Sescqky"
      },
      "execution_count": null,
      "outputs": []
    },
    {
      "cell_type": "code",
      "source": [
        "for epoch in range(1, max_epoch+1):\n",
        "    running_loss = 0\n",
        "    correct = 0\n",
        "    total = 0\n",
        "    model = model.train()\n",
        "    # Training\n",
        "    for train_data, train_labels in train_dataloader:\n",
        "        train_data = train_data.float().to(device)\n",
        "        train_labels = train_labels.long().to(device).view(-1)\n",
        "        \n",
        "        model.zero_grad()\n",
        "        train_scores = model(train_data)\n",
        "        loss = loss_function(train_scores, train_labels)\n",
        "        loss.backward()\n",
        "        optimizer.step()\n",
        "        running_loss += loss.item()\n",
        "        _, predict = torch.max(train_scores.data, 1)\n",
        "        correct += (predict == train_labels).sum().item()\n",
        "        total += train_labels.size(0)\n",
        "\n",
        "    train_loss = running_loss / len(train_dataloader)\n",
        "    train_acc = correct / total\n",
        "\n",
        "    # Check model validation \n",
        "    model = model.eval()\n",
        "    with torch.no_grad():\n",
        "        val_scores = model(val_data)\n",
        "        val_loss = loss_function(val_scores, val_labels)\n",
        "\n",
        "        bi_scores = torch.argmax(val_scores, dim=1).to(device).numpy()\n",
        "        y_val_scores = val_labels.to(device).numpy()\n",
        "        val_acc = accuracy_score(y_val_scores, bi_scores)\n",
        "    \n",
        "    print(f'EPOCH: [{epoch}/{max_epoch}] train loss: {train_loss:.4f} train acc: {train_acc:.4f} val loss: {val_loss:.4f} val acc: {val_acc:4f}')\n",
        "    # Export model\n",
        "    if epoch % 10 == 0:\n",
        "        torch.save(model.state_dict(), f\"./{model_dir}/mlp_{epoch}.mdl\")"
      ],
      "metadata": {
        "colab": {
          "base_uri": "https://localhost:8080/"
        },
        "id": "VhqiBSQ_c09Y",
        "outputId": "ea5517e6-d38a-452f-b0d5-d7586d6e249f"
      },
      "execution_count": null,
      "outputs": [
        {
          "output_type": "stream",
          "name": "stdout",
          "text": [
            "EPOCH: [1/100] train loss: 0.7817 train acc: 0.7516 val loss: 0.6498 val acc: 0.793132\n",
            "EPOCH: [2/100] train loss: 0.6390 train acc: 0.8132 val loss: 0.6022 val acc: 0.818258\n",
            "EPOCH: [3/100] train loss: 0.6041 train acc: 0.8237 val loss: 0.5756 val acc: 0.825796\n",
            "EPOCH: [4/100] train loss: 0.5733 train acc: 0.8329 val loss: 0.5453 val acc: 0.839196\n",
            "EPOCH: [5/100] train loss: 0.5538 train acc: 0.8392 val loss: 0.5352 val acc: 0.831658\n",
            "EPOCH: [6/100] train loss: 0.5356 train acc: 0.8448 val loss: 0.5095 val acc: 0.841709\n",
            "EPOCH: [7/100] train loss: 0.5142 train acc: 0.8494 val loss: 0.4941 val acc: 0.850921\n",
            "EPOCH: [8/100] train loss: 0.4998 train acc: 0.8540 val loss: 0.4866 val acc: 0.852596\n",
            "EPOCH: [9/100] train loss: 0.4931 train acc: 0.8565 val loss: 0.4812 val acc: 0.849246\n",
            "EPOCH: [10/100] train loss: 0.4844 train acc: 0.8576 val loss: 0.4767 val acc: 0.849246\n",
            "EPOCH: [11/100] train loss: 0.4806 train acc: 0.8565 val loss: 0.4747 val acc: 0.850084\n",
            "EPOCH: [12/100] train loss: 0.4700 train acc: 0.8593 val loss: 0.4574 val acc: 0.855946\n",
            "EPOCH: [13/100] train loss: 0.4652 train acc: 0.8620 val loss: 0.4601 val acc: 0.852596\n",
            "EPOCH: [14/100] train loss: 0.4556 train acc: 0.8643 val loss: 0.4523 val acc: 0.857621\n",
            "EPOCH: [15/100] train loss: 0.4574 train acc: 0.8647 val loss: 0.4593 val acc: 0.856784\n",
            "EPOCH: [16/100] train loss: 0.4487 train acc: 0.8660 val loss: 0.4499 val acc: 0.860972\n",
            "EPOCH: [17/100] train loss: 0.4532 train acc: 0.8635 val loss: 0.4379 val acc: 0.865997\n",
            "EPOCH: [18/100] train loss: 0.4396 train acc: 0.8679 val loss: 0.4349 val acc: 0.867672\n",
            "EPOCH: [19/100] train loss: 0.4357 train acc: 0.8679 val loss: 0.4346 val acc: 0.866834\n",
            "EPOCH: [20/100] train loss: 0.4311 train acc: 0.8695 val loss: 0.4330 val acc: 0.865159\n",
            "EPOCH: [21/100] train loss: 0.4338 train acc: 0.8681 val loss: 0.4224 val acc: 0.869347\n",
            "EPOCH: [22/100] train loss: 0.4323 train acc: 0.8695 val loss: 0.4290 val acc: 0.869347\n",
            "EPOCH: [23/100] train loss: 0.4255 train acc: 0.8693 val loss: 0.4269 val acc: 0.871022\n",
            "EPOCH: [24/100] train loss: 0.4232 train acc: 0.8712 val loss: 0.4152 val acc: 0.871859\n",
            "EPOCH: [25/100] train loss: 0.4217 train acc: 0.8706 val loss: 0.4206 val acc: 0.874372\n",
            "EPOCH: [26/100] train loss: 0.4206 train acc: 0.8725 val loss: 0.4338 val acc: 0.863484\n",
            "EPOCH: [27/100] train loss: 0.4208 train acc: 0.8712 val loss: 0.4245 val acc: 0.870184\n",
            "EPOCH: [28/100] train loss: 0.4138 train acc: 0.8733 val loss: 0.4240 val acc: 0.871859\n",
            "EPOCH: [29/100] train loss: 0.4109 train acc: 0.8739 val loss: 0.4317 val acc: 0.871859\n",
            "EPOCH: [30/100] train loss: 0.4125 train acc: 0.8741 val loss: 0.4283 val acc: 0.871022\n",
            "EPOCH: [31/100] train loss: 0.4080 train acc: 0.8741 val loss: 0.4202 val acc: 0.869347\n",
            "EPOCH: [32/100] train loss: 0.4125 train acc: 0.8727 val loss: 0.4289 val acc: 0.871859\n",
            "EPOCH: [33/100] train loss: 0.4061 train acc: 0.8746 val loss: 0.4285 val acc: 0.872697\n",
            "EPOCH: [34/100] train loss: 0.4096 train acc: 0.8741 val loss: 0.4197 val acc: 0.872697\n",
            "EPOCH: [35/100] train loss: 0.4059 train acc: 0.8741 val loss: 0.4240 val acc: 0.871859\n",
            "EPOCH: [36/100] train loss: 0.4103 train acc: 0.8758 val loss: 0.4167 val acc: 0.872697\n",
            "EPOCH: [37/100] train loss: 0.4012 train acc: 0.8752 val loss: 0.4056 val acc: 0.875209\n",
            "EPOCH: [38/100] train loss: 0.3961 train acc: 0.8771 val loss: 0.4076 val acc: 0.875209\n",
            "EPOCH: [39/100] train loss: 0.3959 train acc: 0.8766 val loss: 0.4173 val acc: 0.873534\n",
            "EPOCH: [40/100] train loss: 0.3956 train acc: 0.8775 val loss: 0.4250 val acc: 0.870184\n",
            "EPOCH: [41/100] train loss: 0.3962 train acc: 0.8764 val loss: 0.4176 val acc: 0.873534\n",
            "EPOCH: [42/100] train loss: 0.3996 train acc: 0.8762 val loss: 0.4146 val acc: 0.875209\n",
            "EPOCH: [43/100] train loss: 0.3993 train acc: 0.8764 val loss: 0.4114 val acc: 0.875209\n",
            "EPOCH: [44/100] train loss: 0.3971 train acc: 0.8781 val loss: 0.4212 val acc: 0.875209\n",
            "EPOCH: [45/100] train loss: 0.3927 train acc: 0.8790 val loss: 0.4256 val acc: 0.875209\n",
            "EPOCH: [46/100] train loss: 0.3938 train acc: 0.8773 val loss: 0.4331 val acc: 0.872697\n",
            "EPOCH: [47/100] train loss: 0.3938 train acc: 0.8779 val loss: 0.4178 val acc: 0.876047\n",
            "EPOCH: [48/100] train loss: 0.3926 train acc: 0.8779 val loss: 0.4405 val acc: 0.872697\n",
            "EPOCH: [49/100] train loss: 0.3923 train acc: 0.8783 val loss: 0.4360 val acc: 0.873534\n",
            "EPOCH: [50/100] train loss: 0.3869 train acc: 0.8796 val loss: 0.4264 val acc: 0.876047\n",
            "EPOCH: [51/100] train loss: 0.3924 train acc: 0.8777 val loss: 0.4299 val acc: 0.874372\n",
            "EPOCH: [52/100] train loss: 0.3888 train acc: 0.8779 val loss: 0.4212 val acc: 0.875209\n",
            "EPOCH: [53/100] train loss: 0.3922 train acc: 0.8785 val loss: 0.4250 val acc: 0.875209\n",
            "EPOCH: [54/100] train loss: 0.3836 train acc: 0.8792 val loss: 0.4234 val acc: 0.876047\n",
            "EPOCH: [55/100] train loss: 0.3875 train acc: 0.8798 val loss: 0.4145 val acc: 0.877722\n",
            "EPOCH: [56/100] train loss: 0.3911 train acc: 0.8790 val loss: 0.4407 val acc: 0.872697\n",
            "EPOCH: [57/100] train loss: 0.3849 train acc: 0.8787 val loss: 0.4346 val acc: 0.876884\n",
            "EPOCH: [58/100] train loss: 0.3862 train acc: 0.8785 val loss: 0.4268 val acc: 0.874372\n",
            "EPOCH: [59/100] train loss: 0.3809 train acc: 0.8792 val loss: 0.4437 val acc: 0.872697\n",
            "EPOCH: [60/100] train loss: 0.3791 train acc: 0.8804 val loss: 0.4290 val acc: 0.873534\n",
            "EPOCH: [61/100] train loss: 0.3839 train acc: 0.8783 val loss: 0.4362 val acc: 0.871859\n",
            "EPOCH: [62/100] train loss: 0.3868 train acc: 0.8781 val loss: 0.4333 val acc: 0.876047\n",
            "EPOCH: [63/100] train loss: 0.3792 train acc: 0.8783 val loss: 0.4379 val acc: 0.874372\n",
            "EPOCH: [64/100] train loss: 0.3772 train acc: 0.8798 val loss: 0.4275 val acc: 0.873534\n",
            "EPOCH: [65/100] train loss: 0.3764 train acc: 0.8800 val loss: 0.4419 val acc: 0.876047\n",
            "EPOCH: [66/100] train loss: 0.3772 train acc: 0.8798 val loss: 0.4116 val acc: 0.874372\n",
            "EPOCH: [67/100] train loss: 0.3770 train acc: 0.8802 val loss: 0.4487 val acc: 0.874372\n",
            "EPOCH: [68/100] train loss: 0.3738 train acc: 0.8804 val loss: 0.4095 val acc: 0.876884\n",
            "EPOCH: [69/100] train loss: 0.3724 train acc: 0.8815 val loss: 0.4056 val acc: 0.877722\n",
            "EPOCH: [70/100] train loss: 0.3705 train acc: 0.8823 val loss: 0.4100 val acc: 0.875209\n",
            "EPOCH: [71/100] train loss: 0.3727 train acc: 0.8810 val loss: 0.4347 val acc: 0.871859\n",
            "EPOCH: [72/100] train loss: 0.3783 train acc: 0.8808 val loss: 0.4263 val acc: 0.874372\n",
            "EPOCH: [73/100] train loss: 0.3751 train acc: 0.8800 val loss: 0.4443 val acc: 0.873534\n",
            "EPOCH: [74/100] train loss: 0.3768 train acc: 0.8781 val loss: 0.4344 val acc: 0.876884\n",
            "EPOCH: [75/100] train loss: 0.3698 train acc: 0.8819 val loss: 0.4294 val acc: 0.877722\n",
            "EPOCH: [76/100] train loss: 0.3754 train acc: 0.8810 val loss: 0.4267 val acc: 0.875209\n",
            "EPOCH: [77/100] train loss: 0.3739 train acc: 0.8817 val loss: 0.4228 val acc: 0.876884\n",
            "EPOCH: [78/100] train loss: 0.3654 train acc: 0.8831 val loss: 0.4127 val acc: 0.876047\n",
            "EPOCH: [79/100] train loss: 0.3664 train acc: 0.8823 val loss: 0.4229 val acc: 0.876884\n",
            "EPOCH: [80/100] train loss: 0.3644 train acc: 0.8819 val loss: 0.4209 val acc: 0.876884\n",
            "EPOCH: [81/100] train loss: 0.3719 train acc: 0.8804 val loss: 0.4630 val acc: 0.874372\n",
            "EPOCH: [82/100] train loss: 0.3656 train acc: 0.8831 val loss: 0.4596 val acc: 0.874372\n",
            "EPOCH: [83/100] train loss: 0.3650 train acc: 0.8831 val loss: 0.4533 val acc: 0.874372\n",
            "EPOCH: [84/100] train loss: 0.3596 train acc: 0.8836 val loss: 0.4416 val acc: 0.874372\n",
            "EPOCH: [85/100] train loss: 0.3605 train acc: 0.8840 val loss: 0.4296 val acc: 0.877722\n",
            "EPOCH: [86/100] train loss: 0.3654 train acc: 0.8825 val loss: 0.4343 val acc: 0.876047\n",
            "EPOCH: [87/100] train loss: 0.3606 train acc: 0.8829 val loss: 0.4477 val acc: 0.873534\n",
            "EPOCH: [88/100] train loss: 0.3665 train acc: 0.8813 val loss: 0.4492 val acc: 0.876884\n",
            "EPOCH: [89/100] train loss: 0.3624 train acc: 0.8810 val loss: 0.4499 val acc: 0.874372\n",
            "EPOCH: [90/100] train loss: 0.3594 train acc: 0.8819 val loss: 0.4349 val acc: 0.876884\n",
            "EPOCH: [91/100] train loss: 0.3618 train acc: 0.8821 val loss: 0.4401 val acc: 0.877722\n",
            "EPOCH: [92/100] train loss: 0.3617 train acc: 0.8850 val loss: 0.4374 val acc: 0.878559\n",
            "EPOCH: [93/100] train loss: 0.3558 train acc: 0.8842 val loss: 0.4447 val acc: 0.874372\n",
            "EPOCH: [94/100] train loss: 0.3641 train acc: 0.8817 val loss: 0.4541 val acc: 0.876047\n",
            "EPOCH: [95/100] train loss: 0.3562 train acc: 0.8842 val loss: 0.4368 val acc: 0.876047\n",
            "EPOCH: [96/100] train loss: 0.3660 train acc: 0.8813 val loss: 0.4478 val acc: 0.875209\n",
            "EPOCH: [97/100] train loss: 0.3612 train acc: 0.8852 val loss: 0.4397 val acc: 0.876884\n",
            "EPOCH: [98/100] train loss: 0.3573 train acc: 0.8834 val loss: 0.4538 val acc: 0.876884\n",
            "EPOCH: [99/100] train loss: 0.3671 train acc: 0.8850 val loss: 0.4526 val acc: 0.876047\n",
            "EPOCH: [100/100] train loss: 0.3534 train acc: 0.8850 val loss: 0.4372 val acc: 0.875209\n"
          ]
        }
      ]
    },
    {
      "cell_type": "code",
      "source": [
        "model_path = os.path.join(model_dir, \"mlp_100.mdl\")\n",
        "path = '../dataset/test'\n",
        "transformer = Preprocessing(is_train=False)\n",
        "dataset = NetworkMetricsDataset(path, metrics, device, transformer)\n",
        "\n",
        "input_dim = list(dataset[0][0].shape)[-1]\n",
        "output_dim = len(events.keys())\n",
        "\n",
        "test_dataloader = DataLoader(dataset, batch_size=len(dataset))\n",
        "test_data, test_label = iter(test_dataloader).next()\n",
        "test_data = test_data.float().to(device)\n",
        "test_label = test_label.long().to(device).view(-1)\n",
        "\n",
        "model = MLPClassifier(input_dim, output_dim).to(device)\n",
        "model.load_state_dict(torch.load(model_path))\n",
        "model = model.eval()\n",
        "loss_function = nn.CrossEntropyLoss()\n",
        "with torch.no_grad():\n",
        "    test_scores = model(test_data)\n",
        "    loss = loss_function(test_scores, test_label)\n",
        "    bi_scores = torch.argmax(test_scores, dim=1).to('cpu').numpy()\n",
        "    y_test_scores = test_label.to('cpu').numpy()\n",
        "print(accuracy_score(y_test_scores, bi_scores))\n",
        "print(classification_report(y_test_scores, bi_scores, target_names=list(events.keys())))"
      ],
      "metadata": {
        "colab": {
          "base_uri": "https://localhost:8080/"
        },
        "id": "V8H99IV4dETD",
        "outputId": "09a3d4e7-f784-4f27-a182-06fd0631dc5b"
      },
      "execution_count": null,
      "outputs": [
        {
          "output_type": "stream",
          "name": "stderr",
          "text": [
            "100%|██████████| 6/6 [00:01<00:00,  4.14it/s]\n"
          ]
        },
        {
          "output_type": "stream",
          "name": "stdout",
          "text": [
            "0.8987436714794674\n",
            "                               precision    recall  f1-score   support\n",
            "\n",
            "                       normal       0.88      0.99      0.93      3505\n",
            "ixnetwork-bgp-hijacking-start       0.97      0.71      0.82       377\n",
            "ixnetwork-bgp-injection-start       0.97      0.97      0.97       329\n",
            "                    node-down       1.00      0.81      0.89       140\n",
            "               interface-down       0.73      0.61      0.66       157\n",
            "            packet-loss-delay       0.98      0.64      0.77       825\n",
            "\n",
            "                     accuracy                           0.90      5333\n",
            "                    macro avg       0.92      0.79      0.84      5333\n",
            "                 weighted avg       0.91      0.90      0.89      5333\n",
            "\n"
          ]
        }
      ]
    },
    {
      "cell_type": "code",
      "source": [
        ""
      ],
      "metadata": {
        "id": "hbIx2NmXdHo1"
      },
      "execution_count": null,
      "outputs": []
    }
  ]
}