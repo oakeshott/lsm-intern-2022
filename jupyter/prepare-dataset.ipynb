{
 "cells": [
  {
   "cell_type": "code",
   "execution_count": 157,
   "id": "50ce07e0",
   "metadata": {},
   "outputs": [],
   "source": [
    "import pandas as pd\n",
    "import networkx as nx\n",
    "from tqdm import tqdm\n",
    "from sklearn.preprocessing import MinMaxScaler, StandardScaler\n",
    "import joblib\n",
    "import os"
   ]
  },
  {
   "cell_type": "code",
   "execution_count": 185,
   "id": "162d33ac",
   "metadata": {},
   "outputs": [],
   "source": [
    "mapping_table = {\n",
    "    'IntGW-01+link-tr-intgw-a-1': 'IntGW-01_Gi2',\n",
    "    'IntGW-01+link-tr-intgw-b-1': 'IntGW-01_Gi3',\n",
    "    'IntGW-01+link-intgw-exgw-a-1': 'IntGW-01_Gi5',\n",
    "    'IntGW-01+link-intgw-exgw-a-2': 'IntGW-01_Gi6',\n",
    "    'IntGW-01+link-intgw-exgw-a-3': 'IntGW-01_Gi7',\n",
    "    'IntGW-02+link-tr-intgw-a-2': 'IntGW-02_Gi2',\n",
    "    'IntGW-02+link-tr-intgw-b-2': 'IntGW-02_Gi3',\n",
    "    'IntGW-02+link-intgw-exgw-b-1': 'IntGW-02_Gi5',\n",
    "    'IntGW-02+link-intgw-exgw-b-2': 'IntGW-02_Gi6',\n",
    "    'IntGW-02+link-intgw-exgw-b-3': 'IntGW-02_Gi7',\n",
    "    'RR-01+link-tr-intgw-a-3': 'RR-01_Gi2',\n",
    "    'RR-01+link-tr-intgw-b-3': 'RR-01_Gi3',\n",
    "    'TR-01+link-tr-intgw-a-1': 'TR-01_Gi2',\n",
    "    'TR-01+link-tr-intgw-a-2': 'TR-01_Gi3',\n",
    "    'TR-01+link-tr-intgw-a-3': 'TR-01_Gi4',\n",
    "    'TR-01+link-tr-tr-a-1': 'TR-01_Gi5',\n",
    "    'TR-01+link-tr-ssm-a-1': 'TR-01_Gi6',\n",
    "    'TR-02+link-tr-intgw-b-1': 'TR-02_Gi2',\n",
    "    'TR-02+link-tr-intgw-b-2': 'TR-02_Gi3',\n",
    "    'TR-02+link-tr-intgw-b-3': 'TR-02_Gi4',\n",
    "    'TR-02+link-tr-tr-a-1': 'TR-02_Gi5',\n",
    "    'TR-02+link-tr-ssm-b-1': 'TR-02_Gi6',\n",
    "    'timestamp': 'timestamp',\n",
    "}\n",
    "metrics = [\"admin-status\", \"tx-pps\", \"rx-pps\", \"network-incoming-packets-rate\", \"network-outgoing-packets-rate\"]\n",
    "\n"
   ]
  },
  {
   "cell_type": "code",
   "execution_count": 186,
   "id": "51c640da",
   "metadata": {},
   "outputs": [],
   "source": [
    "# path = \"../dataset/train\"\n",
    "# for metric in metrics:\n",
    "#     df = pd.read_csv(os.path.join(path, metric + \".tsv\"), index_col=0, sep=\"\\t\")\n",
    "#     df.columns = df.columns.map(mapping_table)\n",
    "#     df.to_csv(os.path.join(path, metric + \".tsv\"), sep=\"\\t\")\n",
    "# path = \"../dataset/test\"\n",
    "# for metric in metrics:\n",
    "#     df = pd.read_csv(os.path.join(path, metric + \".tsv\"), index_col=0, sep=\"\\t\")\n",
    "#     df.columns = df.columns.map(mapping_table)\n",
    "#     df.to_csv(os.path.join(path, metric + \".tsv\"), sep=\"\\t\")"
   ]
  },
  {
   "cell_type": "code",
   "execution_count": 193,
   "id": "47fcd4ca",
   "metadata": {},
   "outputs": [],
   "source": [
    "\n",
    "metrics = [\"cpu-util\", \"tx-pps\", \"rx-pps\", \"network-incoming-packets-rate\", \"network-outgoing-packets-rate\", \"prefix-activity-received-current-prefixes\"]\n",
    "link_list = [\n",
    "    ['IntGW-01_Gi2', 'TR-01_Gi2'],\n",
    "    ['IntGW-01_Gi3', 'TR-02_Gi2'],\n",
    "    ['IntGW-02_Gi2', 'TR-01_Gi3'],\n",
    "    ['IntGW-02_Gi3', 'TR-02_Gi3'],\n",
    "    ['RR-01_Gi2', 'TR-01_Gi4'],\n",
    "    ['RR-01_Gi3', 'TR-02_Gi4'],\n",
    "    ['TR-01_Gi5', 'TR-02_Gi5'],\n",
    "    ['IntGW-01_Gi2', 'IntGW-01_Gi3'],\n",
    "    ['IntGW-01_Gi2', 'IntGW-01_Gi5'],\n",
    "    ['IntGW-01_Gi2', 'IntGW-01_Gi6'],\n",
    "    ['IntGW-01_Gi2', 'IntGW-01_Gi7'],\n",
    "    ['IntGW-01_Gi3', 'IntGW-01_Gi5'],\n",
    "    ['IntGW-01_Gi3', 'IntGW-01_Gi6'],\n",
    "    ['IntGW-01_Gi3', 'IntGW-01_Gi7'],\n",
    "    ['IntGW-01_Gi5', 'IntGW-01_Gi6'],\n",
    "    ['IntGW-01_Gi5', 'IntGW-01_Gi7'],\n",
    "    ['IntGW-01_Gi6', 'IntGW-01_Gi7'],\n",
    "    ['IntGW-02_Gi2', 'IntGW-02_Gi3'],\n",
    "    ['IntGW-02_Gi2', 'IntGW-02_Gi5'],\n",
    "    ['IntGW-02_Gi2', 'IntGW-02_Gi6'],\n",
    "    ['IntGW-02_Gi2', 'IntGW-02_Gi7'],\n",
    "    ['IntGW-02_Gi3', 'IntGW-02_Gi5'],\n",
    "    ['IntGW-02_Gi3', 'IntGW-02_Gi6'],\n",
    "    ['IntGW-02_Gi3', 'IntGW-02_Gi7'],\n",
    "    ['IntGW-02_Gi5', 'IntGW-02_Gi6'],\n",
    "    ['IntGW-02_Gi5', 'IntGW-02_Gi7'],\n",
    "    ['IntGW-02_Gi6', 'IntGW-02_Gi7'],\n",
    "    ['RR-01_Gi2', 'RR-01_Gi3'],\n",
    "    ['TR-01_Gi2', 'TR-01_Gi3'],\n",
    "    ['TR-01_Gi2', 'TR-01_Gi4'],\n",
    "    ['TR-01_Gi2', 'TR-01_Gi5'],\n",
    "    ['TR-01_Gi2', 'TR-01_Gi6'],\n",
    "    ['TR-01_Gi3', 'TR-01_Gi4'],\n",
    "    ['TR-01_Gi3', 'TR-01_Gi5'],\n",
    "    ['TR-01_Gi3', 'TR-01_Gi6'],\n",
    "    ['TR-01_Gi4', 'TR-01_Gi5'],\n",
    "    ['TR-01_Gi4', 'TR-01_Gi6'],\n",
    "    ['TR-01_Gi5', 'TR-01_Gi6'],\n",
    "    ['TR-02_Gi2', 'TR-02_Gi3'],\n",
    "    ['TR-02_Gi2', 'TR-02_Gi4'],\n",
    "    ['TR-02_Gi2', 'TR-02_Gi5'],\n",
    "    ['TR-02_Gi2', 'TR-02_Gi6'],\n",
    "    ['TR-02_Gi3', 'TR-02_Gi4'],\n",
    "    ['TR-02_Gi3', 'TR-02_Gi5'],\n",
    "    ['TR-02_Gi3', 'TR-02_Gi6'],\n",
    "    ['TR-02_Gi4', 'TR-02_Gi5'],\n",
    "    ['TR-02_Gi4', 'TR-02_Gi6'],\n",
    "    ['TR-02_Gi5', 'TR-02_Gi6'],\n",
    "]\n"
   ]
  },
  {
   "cell_type": "code",
   "execution_count": 251,
   "id": "cd734b11",
   "metadata": {},
   "outputs": [],
   "source": [
    "class Preprocessing:\n",
    "    def __init__(self, is_train=True):\n",
    "        self.transformer = dict()\n",
    "        self.is_train = is_train\n",
    "        if not self.is_train:\n",
    "            self.transformer = self.load()\n",
    "\n",
    "    def __call__(self, df, is_timeseries=False):\n",
    "        if self.is_train:\n",
    "            return self.fit_transform(df, metric)\n",
    "        else:\n",
    "            df[:] = self.transformer[metric].transform(df)\n",
    "            return df\n",
    "\n",
    "    def fit_transform(self, df, metric):\n",
    "        if metric == 'cpu-util':\n",
    "            self.transformer[metric] = MinMaxScaler()\n",
    "        else:\n",
    "            self.transformer[metric] = StandardScaler()\n",
    "        df[:] = self.transformer[metric].fit_transform(df)\n",
    "        self.dump()\n",
    "        return df\n",
    "    \n",
    "    def transform(self, df):\n",
    "        df[:] = self.transformer[metric].transform(df)\n",
    "        return df\n",
    "\n",
    "    def dump(self, filename='/tmp/gcn_transfomer.bin'):\n",
    "        with open(filename, 'wb') as f:\n",
    "            joblib.dump(self.transformer, f)\n",
    "\n",
    "    def load(self, filename='/tmp/gcn_transfomer.bin'):\n",
    "        with open(filename, 'rb') as f:\n",
    "            data = joblib.load(f)\n",
    "        return data\n"
   ]
  },
  {
   "cell_type": "code",
   "execution_count": 256,
   "id": "09bc57c1",
   "metadata": {},
   "outputs": [
    {
     "name": "stderr",
     "output_type": "stream",
     "text": [
      "100%|████████████████████████████████████████████████████████████████████████████████████████████████████████████████████████████████████████████████████████████| 5969/5969 [00:43<00:00, 136.55it/s]\n"
     ]
    }
   ],
   "source": [
    "transformer = Preprocessing(is_train=True)\n",
    "path = \"../dataset/train\"\n",
    "filepath = \"../dataset/train/network/raw\"\n",
    "os.makedirs(filepath, exist_ok=True)\n",
    "interface_df = []\n",
    "labels = pd.read_csv(os.path.join(path, \"label.tsv\"), sep=\"\\t\", index_col=0)\n",
    "for metric in metrics:\n",
    "    df = pd.read_csv(os.path.join(path, metric + \".tsv\"), sep=\"\\t\", index_col=0)\n",
    "    df = df.fillna(0)\n",
    "    df = df.sort_values(\"timestamp\")\n",
    "    df['_timestamp'] = df['timestamp']\n",
    "    df = df.set_index(\"timestamp\")\n",
    "    timestamp = df['_timestamp']\n",
    "    df.rename(columns={'index': 'timestamp'}, inplace=True)\n",
    "#     if metric == \"prefix-activity-received-current-prefixes\":\n",
    "#         df = df.replace(to_replace=0, method='ffill')\n",
    "    df = transformer(df, metric)\n",
    "    df[\"_timestamp\"] = timestamp\n",
    "    df.index = metric + '_' + df.index.astype(str)\n",
    "    interface_df.append(df)\n",
    "transformer.dump()\n",
    "interface_df = pd.concat(interface_df, sort=True).fillna(0)\n",
    "grouping_interface_df = interface_df.groupby('_timestamp')\n",
    "for timestamp in tqdm(interface_df[\"_timestamp\"].unique()):\n",
    "    tdf = grouping_interface_df.get_group(timestamp)\n",
    "    tdf.index = tdf.index.map(lambda x: x.split('_')[0])\n",
    "    tdf = tdf.drop('_timestamp', axis=1)\n",
    "    edge_list = pd.DataFrame(link_list, columns=['node_from', 'node_to'])\n",
    "    g = nx.from_pandas_edgelist(edge_list, source='node_from', target='node_to')\n",
    "    nx.set_node_attributes(g, values={column: {'x': tdf[column].values} for column in tdf.columns})\n",
    "    nx.set_node_attributes(g, values={column: {'label': labels[labels[\"timestamp\"] == timestamp][\"status\"].values[0]} for column in tdf.columns})\n",
    "    nx.write_gpickle(g, os.path.join(filepath, f'network_{timestamp}.pkl'))\n",
    "\n"
   ]
  },
  {
   "cell_type": "code",
   "execution_count": 253,
   "id": "4ed0ab0b",
   "metadata": {},
   "outputs": [
    {
     "data": {
      "text/plain": [
       "NodeDataView({'IntGW-01_Gi2': {'x': array([ 0.88898428, -1.04330483,  0.17153397,  0.19159075, -4.93972442,\n",
       "        0.        ]), 'label': 0.0}, 'TR-01_Gi2': {'x': array([ 0.74797273,  0.14873886, -0.93220139, -4.65073025,  0.11856197,\n",
       "        0.        ]), 'label': 0.0}, 'IntGW-01_Gi3': {'x': array([ 0.88898428, -0.92068786,  0.10392936,  0.13594317, -4.90742306,\n",
       "        0.        ]), 'label': 0.0}, 'TR-02_Gi2': {'x': array([ 0.73171537,  0.0846755 , -0.71443527, -4.63673833,  0.05455992,\n",
       "        0.        ]), 'label': 0.0}, 'IntGW-02_Gi2': {'x': array([ 8.99566414e-01, -6.15376154e-01,  4.29772582e-03,  4.15067491e-02,\n",
       "       -4.30512236e+00,  0.00000000e+00]), 'label': 0.0}, 'TR-01_Gi3': {'x': array([ 0.74797273, -0.01646617, -0.46895569, -4.08337807, -0.04739447,\n",
       "        0.        ]), 'label': 0.0}, 'IntGW-02_Gi3': {'x': array([ 0.89956641, -0.53872429,  0.07562502,  0.10089748, -4.28276076,\n",
       "        0.        ]), 'label': 0.0}, 'TR-02_Gi3': {'x': array([ 0.73171537,  0.05471106, -0.33609201, -4.0336622 ,  0.02890486,\n",
       "        0.        ]), 'label': 0.0}, 'RR-01_Gi2': {'x': array([ 0.94939889, -0.05129065, -0.08112531, -0.167436  , -0.05186908,\n",
       "        0.        ]), 'label': 0.0}, 'TR-01_Gi4': {'x': array([ 0.74797273, -0.0806941 , -0.05240274, -0.04950742, -0.17212184,\n",
       "        0.        ]), 'label': 0.0}, 'RR-01_Gi3': {'x': array([ 0.94939889, -0.0830292 , -0.05168957, -0.04663777, -0.1610589 ,\n",
       "        0.        ]), 'label': 0.0}, 'TR-02_Gi4': {'x': array([ 0.73171537, -0.04875705, -0.08491275, -0.16403854, -0.04960446,\n",
       "        0.        ]), 'label': 0.0}, 'TR-01_Gi5': {'x': array([ 0.74797273, -0.02238849, -0.02352233, -0.02268326, -0.02725695,\n",
       "        0.        ]), 'label': 0.0}, 'TR-02_Gi5': {'x': array([ 0.73171537, -0.02355004, -0.023257  , -0.02673799, -0.03161679,\n",
       "        0.        ]), 'label': 0.0}, 'IntGW-01_Gi5': {'x': array([ 0.88898428,  0.19594707, -0.0125023 ,  0.06459436,  0.13846768,\n",
       "        0.05951204]), 'label': 0.0}, 'IntGW-01_Gi6': {'x': array([0.88898428, 0.25291195, 0.0191049 , 0.19414819, 0.20879155,\n",
       "       0.07026985]), 'label': 0.0}, 'IntGW-01_Gi7': {'x': array([ 0.88898428,  0.32034594,  0.01779145, -0.00349948,  0.45537018,\n",
       "        0.06772365]), 'label': 0.0}, 'IntGW-02_Gi5': {'x': array([ 0.89956641,  0.1747957 , -0.09232693,  0.24605987,  0.14623723,\n",
       "        0.06567412]), 'label': 0.0}, 'IntGW-02_Gi6': {'x': array([0.89956641, 0.14583676, 0.05904182, 0.11898185, 0.1185039 ,\n",
       "       0.0613438 ]), 'label': 0.0}, 'IntGW-02_Gi7': {'x': array([ 0.89956641,  0.17174666, -0.25518106,  0.3094334 ,  0.3522576 ,\n",
       "        0.0690102 ]), 'label': 0.0}, 'TR-01_Gi6': {'x': array([ 0.74797273, -0.87141167,  0.1118517 ,  0.16655302, -5.74090835,\n",
       "        0.        ]), 'label': 0.0}, 'TR-02_Gi6': {'x': array([ 0.73171537, -0.63232823,  0.1165571 ,  0.1685378 , -5.66641855,\n",
       "        0.        ]), 'label': 0.0}})"
      ]
     },
     "execution_count": 253,
     "metadata": {},
     "output_type": "execute_result"
    }
   ],
   "source": [
    "g.nodes(data=True)"
   ]
  },
  {
   "cell_type": "code",
   "execution_count": 254,
   "id": "6a6ed4bb",
   "metadata": {},
   "outputs": [
    {
     "name": "stderr",
     "output_type": "stream",
     "text": [
      "100%|████████████████████████████████████████████████████████████████████████████████████████████████████████████████████████████████████████████████████████████| 5333/5333 [00:38<00:00, 137.80it/s]\n"
     ]
    }
   ],
   "source": [
    "transformer = Preprocessing(is_train=False)\n",
    "path = \"../dataset/test\"\n",
    "filepath = \"../dataset/test/network/raw\"\n",
    "os.makedirs(filepath, exist_ok=True)\n",
    "interface_df = []\n",
    "labels = pd.read_csv(os.path.join(path, \"label.tsv\"), sep=\"\\t\", index_col=0)\n",
    "for metric in metrics:\n",
    "    df = pd.read_csv(os.path.join(path, metric + \".tsv\"), sep=\"\\t\", index_col=0)\n",
    "    df = df.fillna(0)\n",
    "    df = df.sort_values(\"timestamp\")\n",
    "    df['_timestamp'] = df['timestamp']\n",
    "    df = df.set_index(\"timestamp\")\n",
    "    timestamp = df['_timestamp']\n",
    "    df = transformer(df, metric)\n",
    "#     df.rename(columns={'index': 'timestamp'}, inplace=True)\n",
    "    df[\"_timestamp\"] = timestamp\n",
    "    df.index = metric + '_' + df.index.astype(str)\n",
    "    interface_df.append(df)\n",
    "interface_df = pd.concat(interface_df, sort=True).fillna(0)\n",
    "grouping_interface_df = interface_df.groupby('_timestamp')\n",
    "for timestamp in tqdm(interface_df[\"_timestamp\"].unique()):\n",
    "    tdf = grouping_interface_df.get_group(timestamp)\n",
    "    tdf.index = tdf.index.map(lambda x: x.split('_')[0])\n",
    "    tdf = tdf.drop('_timestamp', axis=1)\n",
    "    edge_list = pd.DataFrame(link_list, columns=['node_from', 'node_to'])\n",
    "    g = nx.from_pandas_edgelist(edge_list, source='node_from', target='node_to')\n",
    "    nx.set_node_attributes(g, values={column: {'x': tdf[column].values} for column in tdf.columns})\n",
    "    nx.set_node_attributes(g, values={column: {'label': labels[labels[\"timestamp\"] == timestamp][\"status\"].values[0]} for column in tdf.columns})\n",
    "#     nx.set_node_attributes(g, {column: {index: tdf[column][index] for index in tdf.index} for column in tdf.columns})\n",
    "    nx.write_gpickle(g, os.path.join(filepath, f'network_{timestamp}.pkl'))\n"
   ]
  },
  {
   "cell_type": "code",
   "execution_count": 255,
   "id": "1210888e",
   "metadata": {},
   "outputs": [
    {
     "data": {
      "text/plain": [
       "NodeDataView({'IntGW-01_Gi2': {'x': array([ 0.91868645, -0.20886033, -0.28807485,  0.0066077 , -0.70849993,\n",
       "        0.        ]), 'label': 0.0}, 'TR-01_Gi2': {'x': array([ 0.8854244 , -1.22081585, -0.82499477, -0.66762323,  0.02211057,\n",
       "        0.        ]), 'label': 0.0}, 'IntGW-01_Gi3': {'x': array([ 0.91868645, -0.22781   , -0.18680265,  0.14881131, -0.74999216,\n",
       "        0.        ]), 'label': 0.0}, 'TR-02_Gi2': {'x': array([ 0.8585177 , -0.01083696, -0.04218879, -0.7020638 ,  0.16469891,\n",
       "        0.        ]), 'label': 0.0}, 'IntGW-02_Gi2': {'x': array([ 0.93352338, -0.41194777, -0.40743322,  0.14808939,  0.14391982,\n",
       "        0.        ]), 'label': 0.0}, 'TR-01_Gi3': {'x': array([ 0.8854244 , -1.11210405, -0.82755449,  0.14715571,  0.16375442,\n",
       "        0.        ]), 'label': 0.0}, 'IntGW-02_Gi3': {'x': array([ 0.93352338, -0.32805295, -0.47514678,  0.06213301,  0.2219234 ,\n",
       "        0.        ]), 'label': 0.0}, 'TR-02_Gi3': {'x': array([ 0.8585177 , -0.04691157,  0.04891627,  0.2123504 ,  0.08660405,\n",
       "        0.        ]), 'label': 0.0}, 'RR-01_Gi2': {'x': array([ 0.96085159, -0.05129065, -0.08112531, 11.94097262, -0.04971419,\n",
       "        0.        ]), 'label': 0.0}, 'TR-01_Gi4': {'x': array([ 0.8854244 , -0.0806941 , -0.05240274, -0.05026732, 13.16137917,\n",
       "        0.        ]), 'label': 0.0}, 'RR-01_Gi3': {'x': array([ 0.96085159, -0.0830292 , -0.05168957,  0.04373927, 11.84032581,\n",
       "        0.        ]), 'label': 0.0}, 'TR-02_Gi4': {'x': array([ 0.8585177 , -0.04875705, -0.08491275, 11.63916884,  0.04774028,\n",
       "        0.        ]), 'label': 0.0}, 'TR-01_Gi5': {'x': array([ 0.8854244 , -0.02238849, -0.02352233, -0.01545248, -0.02067374,\n",
       "        0.        ]), 'label': 0.0}, 'TR-02_Gi5': {'x': array([ 0.8585177 , -0.02355004, -0.023257  , -0.02047904, -0.00685935,\n",
       "        0.        ]), 'label': 0.0}, 'IntGW-01_Gi5': {'x': array([ 0.91868645, -0.32072253, -0.51239098, -0.06928979,  0.23859628,\n",
       "        0.05951204]), 'label': 0.0}, 'IntGW-01_Gi6': {'x': array([ 0.91868645, -0.21907886, -0.41013377,  0.19213938, -0.10279362,\n",
       "        0.07026985]), 'label': 0.0}, 'IntGW-01_Gi7': {'x': array([ 0.91868645, -1.2705385 , -1.01659674, -5.80745737, -6.51188709,\n",
       "        0.06772365]), 'label': 0.0}, 'IntGW-02_Gi5': {'x': array([ 0.93352338, -0.6989293 , -0.87751011,  0.25046214,  0.23019516,\n",
       "        0.06567412]), 'label': 0.0}, 'IntGW-02_Gi6': {'x': array([ 0.93352338, -0.70746695, -1.00858553,  0.07066766,  0.12838775,\n",
       "        0.0613438 ]), 'label': 0.0}, 'IntGW-02_Gi7': {'x': array([ 0.93352338, -0.54896526, -1.20141455,  0.39040724,  0.28800285,\n",
       "        0.0690102 ]), 'label': 0.0}, 'TR-01_Gi6': {'x': array([ 0.8854244 , -1.03733236, -1.95504329,  0.09583872, -0.26779819,\n",
       "        0.        ]), 'label': 0.0}, 'TR-02_Gi6': {'x': array([ 0.8585177 ,  0.06273968, -0.04611338,  0.1007541 , -0.22446201,\n",
       "        0.        ]), 'label': 0.0}})"
      ]
     },
     "execution_count": 255,
     "metadata": {},
     "output_type": "execute_result"
    }
   ],
   "source": [
    "g.nodes(data=True)"
   ]
  },
  {
   "cell_type": "code",
   "execution_count": 243,
   "id": "02b09f58",
   "metadata": {},
   "outputs": [
    {
     "data": {
      "text/plain": [
       "NodeDataView({'IntGW-01_Gi2': {'x': array([  63.99857645, 2338.        , 2342.        , 2340.53686429,\n",
       "       2331.95857254,    0.        ]), 'label': 0.0}, 'TR-01_Gi2': {'x': array([  56.01540335, 2344.        , 2312.        , 2327.98203106,\n",
       "       2342.84515192,    0.        ]), 'label': 0.0}, 'IntGW-01_Gi3': {'x': array([  63.99857645, 2358.        , 2351.        , 2346.75607969,\n",
       "       2350.60225589,    0.        ]), 'label': 0.0}, 'TR-02_Gi2': {'x': array([  52.45252734, 2352.        , 2367.        , 2348.01987748,\n",
       "       2349.22062579,    0.        ]), 'label': 0.0}, 'IntGW-02_Gi2': {'x': array([  64.53134295, 2357.        , 2342.        , 2337.02816255,\n",
       "       2336.48632421,    0.        ]), 'label': 0.0}, 'TR-01_Gi3': {'x': array([  56.01540335, 2342.        , 2360.        , 2334.50056699,\n",
       "       2339.24958442,    0.        ]), 'label': 0.0}, 'IntGW-02_Gi3': {'x': array([  64.53134295, 2375.        , 2335.        , 2330.79231823,\n",
       "       2355.04677684,    0.        ]), 'label': 0.0}, 'TR-02_Gi3': {'x': array([  52.45252734, 2334.        , 2343.        , 2352.04407568,\n",
       "       2332.94069514,    0.        ]), 'label': 0.0}, 'RR-01_Gi2': {'x': array([ 4.20427693e+01, -3.57116470e-18,  2.38077646e-17,  1.33031346e-01,\n",
       "        1.66461459e-01,  0.00000000e+00]), 'label': 0.0}, 'TR-01_Gi4': {'x': array([5.60154033e+01, 0.00000000e+00, 1.30942706e-17, 1.66289182e-01,\n",
       "       1.33169167e-01, 0.00000000e+00]), 'label': 0.0}, 'RR-01_Gi3': {'x': array([4.20427693e+01, 8.92791174e-18, 0.00000000e+00, 1.82918100e-01,\n",
       "       1.33169167e-01, 0.00000000e+00]), 'label': 0.0}, 'TR-02_Gi4': {'x': array([5.24525273e+01, 1.19038823e-18, 5.95194116e-18, 1.33031346e-01,\n",
       "       1.83107604e-01, 0.00000000e+00]), 'label': 0.0}, 'TR-01_Gi5': {'x': array([5.60154033e+01, 5.95194116e-19, 5.95194116e-18, 9.97735091e-02,\n",
       "       1.16523021e-01, 0.00000000e+00]), 'label': 0.0}, 'TR-02_Gi5': {'x': array([ 5.24525273e+01, -5.95194116e-19,  5.95194116e-19,  1.16402427e-01,\n",
       "        9.98768751e-02,  0.00000000e+00]), 'label': 0.0}, 'IntGW-01_Gi5': {'x': array([  63.99857645, 1047.        , 1538.        , 1577.75175796,\n",
       "       1046.32678988, 7821.        ]), 'label': 0.0}, 'IntGW-01_Gi6': {'x': array([  63.99857645, 1047.        , 1578.        , 1564.29896314,\n",
       "       1046.34343602, 7821.        ]), 'label': 0.0}, 'IntGW-01_Gi7': {'x': array([  63.99857645, 1025.        , 1575.        , 1531.82268591,\n",
       "       1021.47409412, 7821.        ]), 'label': 0.0}, 'IntGW-02_Gi5': {'x': array([  64.53134295, 1045.        , 1536.        , 1540.98521984,\n",
       "       1045.91063623, 7821.        ]), 'label': 0.0}, 'IntGW-02_Gi6': {'x': array([  64.53134295, 1026.        , 1563.        , 1553.87263143,\n",
       "       1027.74969111, 7821.        ]), 'label': 0.0}, 'IntGW-02_Gi7': {'x': array([  64.53134295, 1013.        , 1541.        , 1587.46304618,\n",
       "       1014.9321588 , 7821.        ]), 'label': 0.0}, 'TR-01_Gi6': {'x': array([  56.01540335, 4673.        , 4687.        , 4677.08278822,\n",
       "       4667.12985122,    0.        ]), 'label': 0.0}, 'TR-02_Gi6': {'x': array([  52.45252734, 4709.        , 4686.        , 4677.13267497,\n",
       "       4704.60032554,    0.        ]), 'label': 0.0}})"
      ]
     },
     "execution_count": 243,
     "metadata": {},
     "output_type": "execute_result"
    }
   ],
   "source": [
    "G = nx.read_gpickle(\"../dataset/test/network/raw/network_20200707102100.pkl\")\n",
    "G.nodes(data=True)"
   ]
  },
  {
   "cell_type": "code",
   "execution_count": 219,
   "id": "3c3e45e2",
   "metadata": {},
   "outputs": [
    {
     "data": {
      "text/plain": [
       "NodeDataView({'IntGW-01_Gi2': {'x': array([-4.80555502, -0.17897215, -0.26658546, -0.0559486 , -0.70849993,\n",
       "        0.        ]), 'label': 0.0}, 'TR-01_Gi2': {'x': array([-6.32579471, -1.1234861 , -1.0158905 , -0.91526629,  0.02211057,\n",
       "        0.        ]), 'label': 0.0}, 'IntGW-01_Gi3': {'x': array([-4.77207202, -0.21062647, -0.0662688 ,  0.18856513, -0.74999216,\n",
       "        0.        ]), 'label': 0.0}, 'TR-02_Gi2': {'x': array([-6.35053855e+00, -2.62451932e-03, -1.93019541e-01, -1.12424063e+00,\n",
       "        1.64698911e-01,  0.00000000e+00]), 'label': 0.0}, 'IntGW-02_Gi2': {'x': array([-4.72559232, -0.38327196, -0.22937323,  0.17850224,  0.14391982,\n",
       "        0.        ]), 'label': 0.0}, 'TR-01_Gi3': {'x': array([-6.48317134, -1.03499333, -1.22185386,  0.04018753,  0.16375442,\n",
       "        0.        ]), 'label': 0.0}, 'IntGW-02_Gi3': {'x': array([-4.71102517, -0.30744213, -0.31167894,  0.08823419,  0.2219234 ,\n",
       "        0.        ]), 'label': 0.0}, 'TR-02_Gi3': {'x': array([-6.40485531, -0.03363241, -0.02513432,  0.18714604,  0.08660405,\n",
       "        0.        ]), 'label': 0.0}, 'RR-01_Gi2': {'x': array([ 5.61982833e+01, -2.48588681e-01, -2.48588681e-01,  1.88435108e+01,\n",
       "       -4.97141853e-02,  0.00000000e+00]), 'label': 0.0}, 'TR-01_Gi4': {'x': array([52.06930506, -0.29465563, -0.29465563, -0.15609585, 13.16137917,\n",
       "        0.        ]), 'label': 0.0}, 'RR-01_Gi3': {'x': array([26.78783558, -0.24480096, -0.24480096, -0.10801996, 11.84032581,\n",
       "        0.        ]), 'label': 0.0}, 'TR-02_Gi4': {'x': array([ 7.32035065e+01, -2.61100633e-01, -2.61100633e-01,  2.67134926e+01,\n",
       "        4.77402765e-02,  0.00000000e+00]), 'label': 0.0}, 'TR-01_Gi5': {'x': array([10.73459958, -0.04617754, -0.04617754, -0.01765063, -0.02067374,\n",
       "        0.        ]), 'label': 0.0}, 'TR-02_Gi5': {'x': array([ 2.48985871e+01, -7.95562624e-02, -7.95562624e-02, -1.53080898e-02,\n",
       "       -6.85934891e-03,  0.00000000e+00]), 'label': 0.0}, 'IntGW-01_Gi5': {'x': array([-14.93016775, -13.1195988 , -12.18444418, -12.07874483,\n",
       "       -13.02260125,   0.05951204]), 'label': 0.0}, 'IntGW-01_Gi6': {'x': array([-12.88047238, -11.32619795, -10.48152053, -10.3598539 ,\n",
       "       -11.30912309,   0.07026985]), 'label': 0.0}, 'IntGW-01_Gi7': {'x': array([-13.99918013, -12.54666553, -11.54034298, -12.69321553,\n",
       "       -13.57175047,   0.06772365]), 'label': 0.0}, 'IntGW-02_Gi5': {'x': array([-13.68489845, -12.09169916, -11.23901667, -10.99828119,\n",
       "       -11.93874746,   0.06567412]), 'label': 0.0}, 'IntGW-02_Gi6': {'x': array([-14.4370782 , -12.80769674, -11.89929388, -11.64667381,\n",
       "       -12.6424809 ,   0.0613438 ]), 'label': 0.0}, 'IntGW-02_Gi7': {'x': array([-13.72847208, -12.16897071, -11.35784872, -10.99955022,\n",
       "       -12.01351098,   0.0690102 ]), 'label': 0.0}, 'TR-01_Gi6': {'x': array([-6.01864766, -0.92829687, -0.88800727,  0.18482622, -0.26779819,\n",
       "        0.        ]), 'label': 0.0}, 'TR-02_Gi6': {'x': array([-5.95514099,  0.0922759 ,  0.17682378,  0.25071356, -0.22446201,\n",
       "        0.        ]), 'label': 0.0}})"
      ]
     },
     "execution_count": 219,
     "metadata": {},
     "output_type": "execute_result"
    }
   ],
   "source": [
    "G = nx.read_gpickle(\"../dataset/test/network/raw/network_20200713112000.pkl\")\n",
    "G.nodes(data=True)"
   ]
  },
  {
   "cell_type": "code",
   "execution_count": null,
   "id": "fcc24585",
   "metadata": {},
   "outputs": [],
   "source": []
  }
 ],
 "metadata": {
  "kernelspec": {
   "display_name": "Python 3 (ipykernel)",
   "language": "python",
   "name": "python3"
  },
  "language_info": {
   "codemirror_mode": {
    "name": "ipython",
    "version": 3
   },
   "file_extension": ".py",
   "mimetype": "text/x-python",
   "name": "python",
   "nbconvert_exporter": "python",
   "pygments_lexer": "ipython3",
   "version": "3.8.6"
  }
 },
 "nbformat": 4,
 "nbformat_minor": 5
}
